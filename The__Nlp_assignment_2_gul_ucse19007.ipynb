{
  "nbformat": 4,
  "nbformat_minor": 0,
  "metadata": {
    "colab": {
      "provenance": [],
      "authorship_tag": "ABX9TyP/zS/AFkJ6jfH/giVvX8G3",
      "include_colab_link": true
    },
    "kernelspec": {
      "name": "python3",
      "display_name": "Python 3"
    },
    "language_info": {
      "name": "python"
    }
  },
  "cells": [
    {
      "cell_type": "markdown",
      "metadata": {
        "id": "view-in-github",
        "colab_type": "text"
      },
      "source": [
        "<a href=\"https://colab.research.google.com/github/Rukhsar7/nlp_assignment_2_gul/blob/main/The__Nlp_assignment_2_gul_ucse19007.ipynb\" target=\"_parent\"><img src=\"https://colab.research.google.com/assets/colab-badge.svg\" alt=\"Open In Colab\"/></a>"
      ]
    },
    {
      "cell_type": "markdown",
      "source": [
        "Name : Gule Rukhsar\n",
        "\n",
        "---\n",
        "\n",
        "\n",
        "UCSE19007\n",
        "\n",
        "---\n",
        "\n",
        "\n",
        "B.tech 4th year [ 7TH SEM ]\n",
        "\n",
        "---\n",
        "\n",
        "\n",
        "Professor : Dr. Sourav Mondal\n",
        "\n",
        "---\n",
        "\n",
        "\n",
        "XIM UNIVERSITY\n",
        "\n",
        "![xim-university-logo-1 (1) (1) (1) (2).png](data:image/png;base64,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)"
      ],
      "metadata": {
        "id": "Nae4bwGr_s5i"
      }
    },
    {
      "cell_type": "markdown",
      "source": [
        "**Step 1 :** Connecting {Mounting} with the drive"
      ],
      "metadata": {
        "id": "TWU6OoU536q2"
      }
    },
    {
      "cell_type": "code",
      "execution_count": 1,
      "metadata": {
        "colab": {
          "base_uri": "https://localhost:8080/"
        },
        "id": "W8uuWFcw1CNZ",
        "outputId": "ca90cd05-2ef6-4b88-9c34-c11e41855379"
      },
      "outputs": [
        {
          "output_type": "stream",
          "name": "stdout",
          "text": [
            "Mounted at /content/drive\n"
          ]
        }
      ],
      "source": [
        "from google.colab import drive\n",
        "drive.mount('/content/drive')"
      ]
    },
    {
      "cell_type": "markdown",
      "source": [
        "**Step 2:** Data Preprocessing - As we are dealing with the text data, we need to pre-process it using word embeddings."
      ],
      "metadata": {
        "id": "5Upqwp8T3v6y"
      }
    },
    {
      "cell_type": "code",
      "source": [
        "import pandas as pd\n",
        "\n",
        "path = \"/content/drive/MyDrive/nlp/comments.csv\"\n",
        "df = pd.read_csv(path)"
      ],
      "metadata": {
        "id": "8TFw50rn1EUP"
      },
      "execution_count": 2,
      "outputs": []
    },
    {
      "cell_type": "code",
      "source": [
        "df.head()"
      ],
      "metadata": {
        "colab": {
          "base_uri": "https://localhost:8080/",
          "height": 206
        },
        "id": "cXTy_sj31Zsq",
        "outputId": "af4798ef-919c-44c3-dc71-d748bac08d89"
      },
      "execution_count": 3,
      "outputs": [
        {
          "output_type": "execute_result",
          "data": {
            "text/plain": [
              "   User_ID                                        Description  \\\n",
              "0  id10326  The room was kind of clean but had a VERY stro...   \n",
              "1  id10327  I stayed at the Crown Plaza April -- - April -...   \n",
              "2  id10328  I booked this hotel through Hotwire at the low...   \n",
              "3  id10329  Stayed here with husband and sons on the way t...   \n",
              "4  id10330  My girlfriends and I stayed here to celebrate ...   \n",
              "\n",
              "        Browser_Used Device_Used Is_Response  \n",
              "0               Edge      Mobile   not happy  \n",
              "1  Internet Explorer      Mobile   not happy  \n",
              "2            Mozilla      Tablet   not happy  \n",
              "3   InternetExplorer     Desktop       happy  \n",
              "4               Edge      Tablet   not happy  "
            ],
            "text/html": [
              "\n",
              "  <div id=\"df-b911a1a4-18c8-431f-bf74-46e7b40d643f\">\n",
              "    <div class=\"colab-df-container\">\n",
              "      <div>\n",
              "<style scoped>\n",
              "    .dataframe tbody tr th:only-of-type {\n",
              "        vertical-align: middle;\n",
              "    }\n",
              "\n",
              "    .dataframe tbody tr th {\n",
              "        vertical-align: top;\n",
              "    }\n",
              "\n",
              "    .dataframe thead th {\n",
              "        text-align: right;\n",
              "    }\n",
              "</style>\n",
              "<table border=\"1\" class=\"dataframe\">\n",
              "  <thead>\n",
              "    <tr style=\"text-align: right;\">\n",
              "      <th></th>\n",
              "      <th>User_ID</th>\n",
              "      <th>Description</th>\n",
              "      <th>Browser_Used</th>\n",
              "      <th>Device_Used</th>\n",
              "      <th>Is_Response</th>\n",
              "    </tr>\n",
              "  </thead>\n",
              "  <tbody>\n",
              "    <tr>\n",
              "      <th>0</th>\n",
              "      <td>id10326</td>\n",
              "      <td>The room was kind of clean but had a VERY stro...</td>\n",
              "      <td>Edge</td>\n",
              "      <td>Mobile</td>\n",
              "      <td>not happy</td>\n",
              "    </tr>\n",
              "    <tr>\n",
              "      <th>1</th>\n",
              "      <td>id10327</td>\n",
              "      <td>I stayed at the Crown Plaza April -- - April -...</td>\n",
              "      <td>Internet Explorer</td>\n",
              "      <td>Mobile</td>\n",
              "      <td>not happy</td>\n",
              "    </tr>\n",
              "    <tr>\n",
              "      <th>2</th>\n",
              "      <td>id10328</td>\n",
              "      <td>I booked this hotel through Hotwire at the low...</td>\n",
              "      <td>Mozilla</td>\n",
              "      <td>Tablet</td>\n",
              "      <td>not happy</td>\n",
              "    </tr>\n",
              "    <tr>\n",
              "      <th>3</th>\n",
              "      <td>id10329</td>\n",
              "      <td>Stayed here with husband and sons on the way t...</td>\n",
              "      <td>InternetExplorer</td>\n",
              "      <td>Desktop</td>\n",
              "      <td>happy</td>\n",
              "    </tr>\n",
              "    <tr>\n",
              "      <th>4</th>\n",
              "      <td>id10330</td>\n",
              "      <td>My girlfriends and I stayed here to celebrate ...</td>\n",
              "      <td>Edge</td>\n",
              "      <td>Tablet</td>\n",
              "      <td>not happy</td>\n",
              "    </tr>\n",
              "  </tbody>\n",
              "</table>\n",
              "</div>\n",
              "      <button class=\"colab-df-convert\" onclick=\"convertToInteractive('df-b911a1a4-18c8-431f-bf74-46e7b40d643f')\"\n",
              "              title=\"Convert this dataframe to an interactive table.\"\n",
              "              style=\"display:none;\">\n",
              "        \n",
              "  <svg xmlns=\"http://www.w3.org/2000/svg\" height=\"24px\"viewBox=\"0 0 24 24\"\n",
              "       width=\"24px\">\n",
              "    <path d=\"M0 0h24v24H0V0z\" fill=\"none\"/>\n",
              "    <path d=\"M18.56 5.44l.94 2.06.94-2.06 2.06-.94-2.06-.94-.94-2.06-.94 2.06-2.06.94zm-11 1L8.5 8.5l.94-2.06 2.06-.94-2.06-.94L8.5 2.5l-.94 2.06-2.06.94zm10 10l.94 2.06.94-2.06 2.06-.94-2.06-.94-.94-2.06-.94 2.06-2.06.94z\"/><path d=\"M17.41 7.96l-1.37-1.37c-.4-.4-.92-.59-1.43-.59-.52 0-1.04.2-1.43.59L10.3 9.45l-7.72 7.72c-.78.78-.78 2.05 0 2.83L4 21.41c.39.39.9.59 1.41.59.51 0 1.02-.2 1.41-.59l7.78-7.78 2.81-2.81c.8-.78.8-2.07 0-2.86zM5.41 20L4 18.59l7.72-7.72 1.47 1.35L5.41 20z\"/>\n",
              "  </svg>\n",
              "      </button>\n",
              "      \n",
              "  <style>\n",
              "    .colab-df-container {\n",
              "      display:flex;\n",
              "      flex-wrap:wrap;\n",
              "      gap: 12px;\n",
              "    }\n",
              "\n",
              "    .colab-df-convert {\n",
              "      background-color: #E8F0FE;\n",
              "      border: none;\n",
              "      border-radius: 50%;\n",
              "      cursor: pointer;\n",
              "      display: none;\n",
              "      fill: #1967D2;\n",
              "      height: 32px;\n",
              "      padding: 0 0 0 0;\n",
              "      width: 32px;\n",
              "    }\n",
              "\n",
              "    .colab-df-convert:hover {\n",
              "      background-color: #E2EBFA;\n",
              "      box-shadow: 0px 1px 2px rgba(60, 64, 67, 0.3), 0px 1px 3px 1px rgba(60, 64, 67, 0.15);\n",
              "      fill: #174EA6;\n",
              "    }\n",
              "\n",
              "    [theme=dark] .colab-df-convert {\n",
              "      background-color: #3B4455;\n",
              "      fill: #D2E3FC;\n",
              "    }\n",
              "\n",
              "    [theme=dark] .colab-df-convert:hover {\n",
              "      background-color: #434B5C;\n",
              "      box-shadow: 0px 1px 3px 1px rgba(0, 0, 0, 0.15);\n",
              "      filter: drop-shadow(0px 1px 2px rgba(0, 0, 0, 0.3));\n",
              "      fill: #FFFFFF;\n",
              "    }\n",
              "  </style>\n",
              "\n",
              "      <script>\n",
              "        const buttonEl =\n",
              "          document.querySelector('#df-b911a1a4-18c8-431f-bf74-46e7b40d643f button.colab-df-convert');\n",
              "        buttonEl.style.display =\n",
              "          google.colab.kernel.accessAllowed ? 'block' : 'none';\n",
              "\n",
              "        async function convertToInteractive(key) {\n",
              "          const element = document.querySelector('#df-b911a1a4-18c8-431f-bf74-46e7b40d643f');\n",
              "          const dataTable =\n",
              "            await google.colab.kernel.invokeFunction('convertToInteractive',\n",
              "                                                     [key], {});\n",
              "          if (!dataTable) return;\n",
              "\n",
              "          const docLinkHtml = 'Like what you see? Visit the ' +\n",
              "            '<a target=\"_blank\" href=https://colab.research.google.com/notebooks/data_table.ipynb>data table notebook</a>'\n",
              "            + ' to learn more about interactive tables.';\n",
              "          element.innerHTML = '';\n",
              "          dataTable['output_type'] = 'display_data';\n",
              "          await google.colab.output.renderOutput(dataTable, element);\n",
              "          const docLink = document.createElement('div');\n",
              "          docLink.innerHTML = docLinkHtml;\n",
              "          element.appendChild(docLink);\n",
              "        }\n",
              "      </script>\n",
              "    </div>\n",
              "  </div>\n",
              "  "
            ]
          },
          "metadata": {},
          "execution_count": 3
        }
      ]
    },
    {
      "cell_type": "markdown",
      "source": [
        "**Step 3:** We only need the text and sentiment column."
      ],
      "metadata": {
        "id": "yS6b59oP4sx9"
      }
    },
    {
      "cell_type": "code",
      "source": [
        "df.shape"
      ],
      "metadata": {
        "colab": {
          "base_uri": "https://localhost:8080/"
        },
        "id": "VZAw7c2-1kjO",
        "outputId": "233a83a8-4a67-4d13-df35-176ab9344e83"
      },
      "execution_count": 5,
      "outputs": [
        {
          "output_type": "execute_result",
          "data": {
            "text/plain": [
              "(38932, 5)"
            ]
          },
          "metadata": {},
          "execution_count": 5
        }
      ]
    },
    {
      "cell_type": "markdown",
      "source": [
        "In the above result ,we observe that there are more than 14,000 data samples in the sentiment analysis dataset"
      ],
      "metadata": {
        "id": "WCkq_w5H5IRc"
      }
    },
    {
      "cell_type": "markdown",
      "source": [
        "**Step 4**:Checking the column names."
      ],
      "metadata": {
        "id": "YJrRdFuI5NiN"
      }
    },
    {
      "cell_type": "code",
      "source": [
        "df.columns"
      ],
      "metadata": {
        "colab": {
          "base_uri": "https://localhost:8080/"
        },
        "id": "Ei1GSHHJ1tdl",
        "outputId": "e0335ca7-a084-40ab-e377-a8408320b9d1"
      },
      "execution_count": 6,
      "outputs": [
        {
          "output_type": "execute_result",
          "data": {
            "text/plain": [
              "Index(['User_ID', 'Description', 'Browser_Used', 'Device_Used', 'Is_Response'], dtype='object')"
            ]
          },
          "metadata": {},
          "execution_count": 6
        }
      ]
    },
    {
      "cell_type": "markdown",
      "source": [
        "**Step 5:** Getting to know all the info about the data."
      ],
      "metadata": {
        "id": "IQuIwEBF5NZo"
      }
    },
    {
      "cell_type": "code",
      "source": [
        "df.info()"
      ],
      "metadata": {
        "colab": {
          "base_uri": "https://localhost:8080/"
        },
        "id": "lGQv8-RCbXT0",
        "outputId": "7dbdd21e-7b7a-40d9-9f44-84fe942552b0"
      },
      "execution_count": 8,
      "outputs": [
        {
          "output_type": "stream",
          "name": "stdout",
          "text": [
            "<class 'pandas.core.frame.DataFrame'>\n",
            "RangeIndex: 38932 entries, 0 to 38931\n",
            "Data columns (total 5 columns):\n",
            " #   Column        Non-Null Count  Dtype \n",
            "---  ------        --------------  ----- \n",
            " 0   User_ID       38932 non-null  object\n",
            " 1   Description   38932 non-null  object\n",
            " 2   Browser_Used  38932 non-null  object\n",
            " 3   Device_Used   38932 non-null  object\n",
            " 4   Is_Response   38932 non-null  object\n",
            "dtypes: object(5)\n",
            "memory usage: 1.5+ MB\n"
          ]
        }
      ]
    },
    {
      "cell_type": "markdown",
      "source": [
        "**Step 6:** Checking the transpose.\n",
        "\n",
        "**Note:** When every value of the pandas data structure needs to be transposed in some specific manner then the pandas.transpose() function can be used. The word transpose means the process of exchanging places. same as the word means the transpose() method in pandas is used for interchanging the axes. the process of interchanging the axes means all column values in the dataframe will get depicted as rows and all rows in the dataframe will be reflected as columns. this interchanging process is named as transpose."
      ],
      "metadata": {
        "id": "CHKGej245wgp"
      }
    },
    {
      "cell_type": "code",
      "source": [
        "df.describe().transpose()"
      ],
      "metadata": {
        "colab": {
          "base_uri": "https://localhost:8080/",
          "height": 206
        },
        "id": "RSgjOUk-1zBd",
        "outputId": "0f30a5d9-9a22-46dc-ad15-bb862e04f8ec"
      },
      "execution_count": 10,
      "outputs": [
        {
          "output_type": "execute_result",
          "data": {
            "text/plain": [
              "              count unique                                                top  \\\n",
              "User_ID       38932  38932                                            id10326   \n",
              "Description   38932  38932  The room was kind of clean but had a VERY stro...   \n",
              "Browser_Used  38932     11                                            Firefox   \n",
              "Device_Used   38932      3                                            Desktop   \n",
              "Is_Response   38932      2                                              happy   \n",
              "\n",
              "               freq  \n",
              "User_ID           1  \n",
              "Description       1  \n",
              "Browser_Used   7367  \n",
              "Device_Used   15026  \n",
              "Is_Response   26521  "
            ],
            "text/html": [
              "\n",
              "  <div id=\"df-5603b42d-6f66-4a89-b019-45e8bad0e294\">\n",
              "    <div class=\"colab-df-container\">\n",
              "      <div>\n",
              "<style scoped>\n",
              "    .dataframe tbody tr th:only-of-type {\n",
              "        vertical-align: middle;\n",
              "    }\n",
              "\n",
              "    .dataframe tbody tr th {\n",
              "        vertical-align: top;\n",
              "    }\n",
              "\n",
              "    .dataframe thead th {\n",
              "        text-align: right;\n",
              "    }\n",
              "</style>\n",
              "<table border=\"1\" class=\"dataframe\">\n",
              "  <thead>\n",
              "    <tr style=\"text-align: right;\">\n",
              "      <th></th>\n",
              "      <th>count</th>\n",
              "      <th>unique</th>\n",
              "      <th>top</th>\n",
              "      <th>freq</th>\n",
              "    </tr>\n",
              "  </thead>\n",
              "  <tbody>\n",
              "    <tr>\n",
              "      <th>User_ID</th>\n",
              "      <td>38932</td>\n",
              "      <td>38932</td>\n",
              "      <td>id10326</td>\n",
              "      <td>1</td>\n",
              "    </tr>\n",
              "    <tr>\n",
              "      <th>Description</th>\n",
              "      <td>38932</td>\n",
              "      <td>38932</td>\n",
              "      <td>The room was kind of clean but had a VERY stro...</td>\n",
              "      <td>1</td>\n",
              "    </tr>\n",
              "    <tr>\n",
              "      <th>Browser_Used</th>\n",
              "      <td>38932</td>\n",
              "      <td>11</td>\n",
              "      <td>Firefox</td>\n",
              "      <td>7367</td>\n",
              "    </tr>\n",
              "    <tr>\n",
              "      <th>Device_Used</th>\n",
              "      <td>38932</td>\n",
              "      <td>3</td>\n",
              "      <td>Desktop</td>\n",
              "      <td>15026</td>\n",
              "    </tr>\n",
              "    <tr>\n",
              "      <th>Is_Response</th>\n",
              "      <td>38932</td>\n",
              "      <td>2</td>\n",
              "      <td>happy</td>\n",
              "      <td>26521</td>\n",
              "    </tr>\n",
              "  </tbody>\n",
              "</table>\n",
              "</div>\n",
              "      <button class=\"colab-df-convert\" onclick=\"convertToInteractive('df-5603b42d-6f66-4a89-b019-45e8bad0e294')\"\n",
              "              title=\"Convert this dataframe to an interactive table.\"\n",
              "              style=\"display:none;\">\n",
              "        \n",
              "  <svg xmlns=\"http://www.w3.org/2000/svg\" height=\"24px\"viewBox=\"0 0 24 24\"\n",
              "       width=\"24px\">\n",
              "    <path d=\"M0 0h24v24H0V0z\" fill=\"none\"/>\n",
              "    <path d=\"M18.56 5.44l.94 2.06.94-2.06 2.06-.94-2.06-.94-.94-2.06-.94 2.06-2.06.94zm-11 1L8.5 8.5l.94-2.06 2.06-.94-2.06-.94L8.5 2.5l-.94 2.06-2.06.94zm10 10l.94 2.06.94-2.06 2.06-.94-2.06-.94-.94-2.06-.94 2.06-2.06.94z\"/><path d=\"M17.41 7.96l-1.37-1.37c-.4-.4-.92-.59-1.43-.59-.52 0-1.04.2-1.43.59L10.3 9.45l-7.72 7.72c-.78.78-.78 2.05 0 2.83L4 21.41c.39.39.9.59 1.41.59.51 0 1.02-.2 1.41-.59l7.78-7.78 2.81-2.81c.8-.78.8-2.07 0-2.86zM5.41 20L4 18.59l7.72-7.72 1.47 1.35L5.41 20z\"/>\n",
              "  </svg>\n",
              "      </button>\n",
              "      \n",
              "  <style>\n",
              "    .colab-df-container {\n",
              "      display:flex;\n",
              "      flex-wrap:wrap;\n",
              "      gap: 12px;\n",
              "    }\n",
              "\n",
              "    .colab-df-convert {\n",
              "      background-color: #E8F0FE;\n",
              "      border: none;\n",
              "      border-radius: 50%;\n",
              "      cursor: pointer;\n",
              "      display: none;\n",
              "      fill: #1967D2;\n",
              "      height: 32px;\n",
              "      padding: 0 0 0 0;\n",
              "      width: 32px;\n",
              "    }\n",
              "\n",
              "    .colab-df-convert:hover {\n",
              "      background-color: #E2EBFA;\n",
              "      box-shadow: 0px 1px 2px rgba(60, 64, 67, 0.3), 0px 1px 3px 1px rgba(60, 64, 67, 0.15);\n",
              "      fill: #174EA6;\n",
              "    }\n",
              "\n",
              "    [theme=dark] .colab-df-convert {\n",
              "      background-color: #3B4455;\n",
              "      fill: #D2E3FC;\n",
              "    }\n",
              "\n",
              "    [theme=dark] .colab-df-convert:hover {\n",
              "      background-color: #434B5C;\n",
              "      box-shadow: 0px 1px 3px 1px rgba(0, 0, 0, 0.15);\n",
              "      filter: drop-shadow(0px 1px 2px rgba(0, 0, 0, 0.3));\n",
              "      fill: #FFFFFF;\n",
              "    }\n",
              "  </style>\n",
              "\n",
              "      <script>\n",
              "        const buttonEl =\n",
              "          document.querySelector('#df-5603b42d-6f66-4a89-b019-45e8bad0e294 button.colab-df-convert');\n",
              "        buttonEl.style.display =\n",
              "          google.colab.kernel.accessAllowed ? 'block' : 'none';\n",
              "\n",
              "        async function convertToInteractive(key) {\n",
              "          const element = document.querySelector('#df-5603b42d-6f66-4a89-b019-45e8bad0e294');\n",
              "          const dataTable =\n",
              "            await google.colab.kernel.invokeFunction('convertToInteractive',\n",
              "                                                     [key], {});\n",
              "          if (!dataTable) return;\n",
              "\n",
              "          const docLinkHtml = 'Like what you see? Visit the ' +\n",
              "            '<a target=\"_blank\" href=https://colab.research.google.com/notebooks/data_table.ipynb>data table notebook</a>'\n",
              "            + ' to learn more about interactive tables.';\n",
              "          element.innerHTML = '';\n",
              "          dataTable['output_type'] = 'display_data';\n",
              "          await google.colab.output.renderOutput(dataTable, element);\n",
              "          const docLink = document.createElement('div');\n",
              "          docLink.innerHTML = docLinkHtml;\n",
              "          element.appendChild(docLink);\n",
              "        }\n",
              "      </script>\n",
              "    </div>\n",
              "  </div>\n",
              "  "
            ]
          },
          "metadata": {},
          "execution_count": 10
        }
      ]
    },
    {
      "cell_type": "markdown",
      "source": [
        "**Data Cleaning / EDA starts here**"
      ],
      "metadata": {
        "id": "jIPjGS8zcUtZ"
      }
    },
    {
      "cell_type": "markdown",
      "source": [
        "**Step 7:** Checking Missing values in the Data Set and printing the Percentage for Missing Values for Each Columns."
      ],
      "metadata": {
        "id": "AOTgri-u6IlI"
      }
    },
    {
      "cell_type": "code",
      "source": [
        "count = df.isnull().sum().sort_values(ascending=False)\n",
        "percentage = ((df.isnull().sum()/len(df)*100)).sort_values(ascending=False)\n",
        "missing_data = pd.concat([count, percentage], axis=1,\n",
        "keys=['Count','Percentage'])\n",
        "\n",
        "print('Count and percentage of missing values for the columns:')\n",
        "\n",
        "missing_data"
      ],
      "metadata": {
        "colab": {
          "base_uri": "https://localhost:8080/",
          "height": 223
        },
        "id": "MRo05qxt16Pp",
        "outputId": "448197f4-4b2c-4ec9-9e9c-e536fbb00b68"
      },
      "execution_count": 11,
      "outputs": [
        {
          "output_type": "stream",
          "name": "stdout",
          "text": [
            "Count and percentage of missing values for the columns:\n"
          ]
        },
        {
          "output_type": "execute_result",
          "data": {
            "text/plain": [
              "              Count  Percentage\n",
              "User_ID           0         0.0\n",
              "Description       0         0.0\n",
              "Browser_Used      0         0.0\n",
              "Device_Used       0         0.0\n",
              "Is_Response       0         0.0"
            ],
            "text/html": [
              "\n",
              "  <div id=\"df-b1582e87-73e3-405c-9e3c-55dc7c41aeed\">\n",
              "    <div class=\"colab-df-container\">\n",
              "      <div>\n",
              "<style scoped>\n",
              "    .dataframe tbody tr th:only-of-type {\n",
              "        vertical-align: middle;\n",
              "    }\n",
              "\n",
              "    .dataframe tbody tr th {\n",
              "        vertical-align: top;\n",
              "    }\n",
              "\n",
              "    .dataframe thead th {\n",
              "        text-align: right;\n",
              "    }\n",
              "</style>\n",
              "<table border=\"1\" class=\"dataframe\">\n",
              "  <thead>\n",
              "    <tr style=\"text-align: right;\">\n",
              "      <th></th>\n",
              "      <th>Count</th>\n",
              "      <th>Percentage</th>\n",
              "    </tr>\n",
              "  </thead>\n",
              "  <tbody>\n",
              "    <tr>\n",
              "      <th>User_ID</th>\n",
              "      <td>0</td>\n",
              "      <td>0.0</td>\n",
              "    </tr>\n",
              "    <tr>\n",
              "      <th>Description</th>\n",
              "      <td>0</td>\n",
              "      <td>0.0</td>\n",
              "    </tr>\n",
              "    <tr>\n",
              "      <th>Browser_Used</th>\n",
              "      <td>0</td>\n",
              "      <td>0.0</td>\n",
              "    </tr>\n",
              "    <tr>\n",
              "      <th>Device_Used</th>\n",
              "      <td>0</td>\n",
              "      <td>0.0</td>\n",
              "    </tr>\n",
              "    <tr>\n",
              "      <th>Is_Response</th>\n",
              "      <td>0</td>\n",
              "      <td>0.0</td>\n",
              "    </tr>\n",
              "  </tbody>\n",
              "</table>\n",
              "</div>\n",
              "      <button class=\"colab-df-convert\" onclick=\"convertToInteractive('df-b1582e87-73e3-405c-9e3c-55dc7c41aeed')\"\n",
              "              title=\"Convert this dataframe to an interactive table.\"\n",
              "              style=\"display:none;\">\n",
              "        \n",
              "  <svg xmlns=\"http://www.w3.org/2000/svg\" height=\"24px\"viewBox=\"0 0 24 24\"\n",
              "       width=\"24px\">\n",
              "    <path d=\"M0 0h24v24H0V0z\" fill=\"none\"/>\n",
              "    <path d=\"M18.56 5.44l.94 2.06.94-2.06 2.06-.94-2.06-.94-.94-2.06-.94 2.06-2.06.94zm-11 1L8.5 8.5l.94-2.06 2.06-.94-2.06-.94L8.5 2.5l-.94 2.06-2.06.94zm10 10l.94 2.06.94-2.06 2.06-.94-2.06-.94-.94-2.06-.94 2.06-2.06.94z\"/><path d=\"M17.41 7.96l-1.37-1.37c-.4-.4-.92-.59-1.43-.59-.52 0-1.04.2-1.43.59L10.3 9.45l-7.72 7.72c-.78.78-.78 2.05 0 2.83L4 21.41c.39.39.9.59 1.41.59.51 0 1.02-.2 1.41-.59l7.78-7.78 2.81-2.81c.8-.78.8-2.07 0-2.86zM5.41 20L4 18.59l7.72-7.72 1.47 1.35L5.41 20z\"/>\n",
              "  </svg>\n",
              "      </button>\n",
              "      \n",
              "  <style>\n",
              "    .colab-df-container {\n",
              "      display:flex;\n",
              "      flex-wrap:wrap;\n",
              "      gap: 12px;\n",
              "    }\n",
              "\n",
              "    .colab-df-convert {\n",
              "      background-color: #E8F0FE;\n",
              "      border: none;\n",
              "      border-radius: 50%;\n",
              "      cursor: pointer;\n",
              "      display: none;\n",
              "      fill: #1967D2;\n",
              "      height: 32px;\n",
              "      padding: 0 0 0 0;\n",
              "      width: 32px;\n",
              "    }\n",
              "\n",
              "    .colab-df-convert:hover {\n",
              "      background-color: #E2EBFA;\n",
              "      box-shadow: 0px 1px 2px rgba(60, 64, 67, 0.3), 0px 1px 3px 1px rgba(60, 64, 67, 0.15);\n",
              "      fill: #174EA6;\n",
              "    }\n",
              "\n",
              "    [theme=dark] .colab-df-convert {\n",
              "      background-color: #3B4455;\n",
              "      fill: #D2E3FC;\n",
              "    }\n",
              "\n",
              "    [theme=dark] .colab-df-convert:hover {\n",
              "      background-color: #434B5C;\n",
              "      box-shadow: 0px 1px 3px 1px rgba(0, 0, 0, 0.15);\n",
              "      filter: drop-shadow(0px 1px 2px rgba(0, 0, 0, 0.3));\n",
              "      fill: #FFFFFF;\n",
              "    }\n",
              "  </style>\n",
              "\n",
              "      <script>\n",
              "        const buttonEl =\n",
              "          document.querySelector('#df-b1582e87-73e3-405c-9e3c-55dc7c41aeed button.colab-df-convert');\n",
              "        buttonEl.style.display =\n",
              "          google.colab.kernel.accessAllowed ? 'block' : 'none';\n",
              "\n",
              "        async function convertToInteractive(key) {\n",
              "          const element = document.querySelector('#df-b1582e87-73e3-405c-9e3c-55dc7c41aeed');\n",
              "          const dataTable =\n",
              "            await google.colab.kernel.invokeFunction('convertToInteractive',\n",
              "                                                     [key], {});\n",
              "          if (!dataTable) return;\n",
              "\n",
              "          const docLinkHtml = 'Like what you see? Visit the ' +\n",
              "            '<a target=\"_blank\" href=https://colab.research.google.com/notebooks/data_table.ipynb>data table notebook</a>'\n",
              "            + ' to learn more about interactive tables.';\n",
              "          element.innerHTML = '';\n",
              "          dataTable['output_type'] = 'display_data';\n",
              "          await google.colab.output.renderOutput(dataTable, element);\n",
              "          const docLink = document.createElement('div');\n",
              "          docLink.innerHTML = docLinkHtml;\n",
              "          element.appendChild(docLink);\n",
              "        }\n",
              "      </script>\n",
              "    </div>\n",
              "  </div>\n",
              "  "
            ]
          },
          "metadata": {},
          "execution_count": 11
        }
      ]
    },
    {
      "cell_type": "markdown",
      "source": [
        "**Step 8:** Checking for the Distribution of Default."
      ],
      "metadata": {
        "id": "rRRdDP0x7MJC"
      }
    },
    {
      "cell_type": "code",
      "source": [
        "\n",
        "import matplotlib.pyplot as plt\n",
        "%matplotlib inline\n",
        "print('Percentage for default\\n')\n",
        "print(round(df.Is_Response.value_counts(normalize=True)*100,2))\n",
        "round(df.Is_Response.value_counts(normalize=True)*100,2).plot(kind='bar')\n",
        "plt.title('Percentage Distributions by review type')\n",
        "plt.show()"
      ],
      "metadata": {
        "id": "CVHmJgv616au",
        "colab": {
          "base_uri": "https://localhost:8080/",
          "height": 409
        },
        "outputId": "31e4b083-ba33-40ad-e453-d346e1234002"
      },
      "execution_count": 12,
      "outputs": [
        {
          "output_type": "stream",
          "name": "stdout",
          "text": [
            "Percentage for default\n",
            "\n",
            "happy        68.12\n",
            "not happy    31.88\n",
            "Name: Is_Response, dtype: float64\n"
          ]
        },
        {
          "output_type": "display_data",
          "data": {
            "text/plain": [
              "<Figure size 432x288 with 1 Axes>"
            ],
            "image/png": "[encoded data removed]"
          },
          "metadata": {
            "needs_background": "light"
          }
        }
      ]
    },
    {
      "cell_type": "markdown",
      "source": [
        "**Step 9:** Removing columns"
      ],
      "metadata": {
        "id": "VGh2j_Pk7Zoq"
      }
    },
    {
      "cell_type": "code",
      "source": [
        "\n",
        "df.drop(columns = ['User_ID', 'Browser_Used', 'Device_Used'], inplace = True)\n"
      ],
      "metadata": {
        "id": "xRT8BcvG2ECE"
      },
      "execution_count": 13,
      "outputs": []
    },
    {
      "cell_type": "markdown",
      "source": [
        "**Step 10:**  Applying first level cleaning\n",
        "\n"
      ],
      "metadata": {
        "id": "7mDeiST-7i52"
      }
    },
    {
      "cell_type": "code",
      "source": [
        "\n",
        "import re\n",
        "import string\n",
        "\n",
        "#This function converts to lower-case, removes square bracket, removes numbers and punctuation\n",
        "def text_clean_1(text):\n",
        "    text = text.lower()\n",
        "    text = re.sub('\\[.*?\\]', '', text)\n",
        "    text = re.sub('[%s]' % re.escape(string.punctuation), '', text)\n",
        "    text = re.sub('\\w*\\d\\w*', '', text)\n",
        "    return text\n",
        "\n",
        "cleaned1 = lambda x: text_clean_1(x)"
      ],
      "metadata": {
        "id": "Y8ZPfUx52EHt"
      },
      "execution_count": 14,
      "outputs": []
    },
    {
      "cell_type": "markdown",
      "source": [
        "**Step 11:** Now Let's take a look at the updated text."
      ],
      "metadata": {
        "id": "GiCpmMmO7__i"
      }
    },
    {
      "cell_type": "code",
      "source": [
        "\n",
        "df['cleaned_description'] = pd.DataFrame(df.Description.apply(cleaned1))\n",
        "df.head(10)"
      ],
      "metadata": {
        "id": "YkMkdsRb2ENt",
        "colab": {
          "base_uri": "https://localhost:8080/",
          "height": 363
        },
        "outputId": "ed888efd-04cb-42f6-fe61-6d1840fd2a54"
      },
      "execution_count": 15,
      "outputs": [
        {
          "output_type": "execute_result",
          "data": {
            "text/plain": [
              "                                         Description Is_Response  \\\n",
              "0  The room was kind of clean but had a VERY stro...   not happy   \n",
              "1  I stayed at the Crown Plaza April -- - April -...   not happy   \n",
              "2  I booked this hotel through Hotwire at the low...   not happy   \n",
              "3  Stayed here with husband and sons on the way t...       happy   \n",
              "4  My girlfriends and I stayed here to celebrate ...   not happy   \n",
              "5  We had - rooms. One was very nice and clearly ...       happy   \n",
              "6  My husband and I have stayed in this hotel a f...   not happy   \n",
              "7  My wife & I stayed in this glorious city a whi...       happy   \n",
              "8  My boyfriend and I stayed at the Fairmont on a...       happy   \n",
              "9  Wonderful staff, great location, but it was de...   not happy   \n",
              "\n",
              "                                 cleaned_description  \n",
              "0  the room was kind of clean but had a very stro...  \n",
              "1  i stayed at the crown plaza april   april   th...  \n",
              "2  i booked this hotel through hotwire at the low...  \n",
              "3  stayed here with husband and sons on the way t...  \n",
              "4  my girlfriends and i stayed here to celebrate ...  \n",
              "5  we had  rooms one was very nice and clearly ha...  \n",
              "6  my husband and i have stayed in this hotel a f...  \n",
              "7  my wife  i stayed in this glorious city a whil...  \n",
              "8  my boyfriend and i stayed at the fairmont on a...  \n",
              "9  wonderful staff great location but it was defi...  "
            ],
            "text/html": [
              "\n",
              "  <div id=\"df-907916fa-f842-417c-a067-680eae0c493b\">\n",
              "    <div class=\"colab-df-container\">\n",
              "      <div>\n",
              "<style scoped>\n",
              "    .dataframe tbody tr th:only-of-type {\n",
              "        vertical-align: middle;\n",
              "    }\n",
              "\n",
              "    .dataframe tbody tr th {\n",
              "        vertical-align: top;\n",
              "    }\n",
              "\n",
              "    .dataframe thead th {\n",
              "        text-align: right;\n",
              "    }\n",
              "</style>\n",
              "<table border=\"1\" class=\"dataframe\">\n",
              "  <thead>\n",
              "    <tr style=\"text-align: right;\">\n",
              "      <th></th>\n",
              "      <th>Description</th>\n",
              "      <th>Is_Response</th>\n",
              "      <th>cleaned_description</th>\n",
              "    </tr>\n",
              "  </thead>\n",
              "  <tbody>\n",
              "    <tr>\n",
              "      <th>0</th>\n",
              "      <td>The room was kind of clean but had a VERY stro...</td>\n",
              "      <td>not happy</td>\n",
              "      <td>the room was kind of clean but had a very stro...</td>\n",
              "    </tr>\n",
              "    <tr>\n",
              "      <th>1</th>\n",
              "      <td>I stayed at the Crown Plaza April -- - April -...</td>\n",
              "      <td>not happy</td>\n",
              "      <td>i stayed at the crown plaza april   april   th...</td>\n",
              "    </tr>\n",
              "    <tr>\n",
              "      <th>2</th>\n",
              "      <td>I booked this hotel through Hotwire at the low...</td>\n",
              "      <td>not happy</td>\n",
              "      <td>i booked this hotel through hotwire at the low...</td>\n",
              "    </tr>\n",
              "    <tr>\n",
              "      <th>3</th>\n",
              "      <td>Stayed here with husband and sons on the way t...</td>\n",
              "      <td>happy</td>\n",
              "      <td>stayed here with husband and sons on the way t...</td>\n",
              "    </tr>\n",
              "    <tr>\n",
              "      <th>4</th>\n",
              "      <td>My girlfriends and I stayed here to celebrate ...</td>\n",
              "      <td>not happy</td>\n",
              "      <td>my girlfriends and i stayed here to celebrate ...</td>\n",
              "    </tr>\n",
              "    <tr>\n",
              "      <th>5</th>\n",
              "      <td>We had - rooms. One was very nice and clearly ...</td>\n",
              "      <td>happy</td>\n",
              "      <td>we had  rooms one was very nice and clearly ha...</td>\n",
              "    </tr>\n",
              "    <tr>\n",
              "      <th>6</th>\n",
              "      <td>My husband and I have stayed in this hotel a f...</td>\n",
              "      <td>not happy</td>\n",
              "      <td>my husband and i have stayed in this hotel a f...</td>\n",
              "    </tr>\n",
              "    <tr>\n",
              "      <th>7</th>\n",
              "      <td>My wife &amp; I stayed in this glorious city a whi...</td>\n",
              "      <td>happy</td>\n",
              "      <td>my wife  i stayed in this glorious city a whil...</td>\n",
              "    </tr>\n",
              "    <tr>\n",
              "      <th>8</th>\n",
              "      <td>My boyfriend and I stayed at the Fairmont on a...</td>\n",
              "      <td>happy</td>\n",
              "      <td>my boyfriend and i stayed at the fairmont on a...</td>\n",
              "    </tr>\n",
              "    <tr>\n",
              "      <th>9</th>\n",
              "      <td>Wonderful staff, great location, but it was de...</td>\n",
              "      <td>not happy</td>\n",
              "      <td>wonderful staff great location but it was defi...</td>\n",
              "    </tr>\n",
              "  </tbody>\n",
              "</table>\n",
              "</div>\n",
              "      <button class=\"colab-df-convert\" onclick=\"convertToInteractive('df-907916fa-f842-417c-a067-680eae0c493b')\"\n",
              "              title=\"Convert this dataframe to an interactive table.\"\n",
              "              style=\"display:none;\">\n",
              "        \n",
              "  <svg xmlns=\"http://www.w3.org/2000/svg\" height=\"24px\"viewBox=\"0 0 24 24\"\n",
              "       width=\"24px\">\n",
              "    <path d=\"M0 0h24v24H0V0z\" fill=\"none\"/>\n",
              "    <path d=\"M18.56 5.44l.94 2.06.94-2.06 2.06-.94-2.06-.94-.94-2.06-.94 2.06-2.06.94zm-11 1L8.5 8.5l.94-2.06 2.06-.94-2.06-.94L8.5 2.5l-.94 2.06-2.06.94zm10 10l.94 2.06.94-2.06 2.06-.94-2.06-.94-.94-2.06-.94 2.06-2.06.94z\"/><path d=\"M17.41 7.96l-1.37-1.37c-.4-.4-.92-.59-1.43-.59-.52 0-1.04.2-1.43.59L10.3 9.45l-7.72 7.72c-.78.78-.78 2.05 0 2.83L4 21.41c.39.39.9.59 1.41.59.51 0 1.02-.2 1.41-.59l7.78-7.78 2.81-2.81c.8-.78.8-2.07 0-2.86zM5.41 20L4 18.59l7.72-7.72 1.47 1.35L5.41 20z\"/>\n",
              "  </svg>\n",
              "      </button>\n",
              "      \n",
              "  <style>\n",
              "    .colab-df-container {\n",
              "      display:flex;\n",
              "      flex-wrap:wrap;\n",
              "      gap: 12px;\n",
              "    }\n",
              "\n",
              "    .colab-df-convert {\n",
              "      background-color: #E8F0FE;\n",
              "      border: none;\n",
              "      border-radius: 50%;\n",
              "      cursor: pointer;\n",
              "      display: none;\n",
              "      fill: #1967D2;\n",
              "      height: 32px;\n",
              "      padding: 0 0 0 0;\n",
              "      width: 32px;\n",
              "    }\n",
              "\n",
              "    .colab-df-convert:hover {\n",
              "      background-color: #E2EBFA;\n",
              "      box-shadow: 0px 1px 2px rgba(60, 64, 67, 0.3), 0px 1px 3px 1px rgba(60, 64, 67, 0.15);\n",
              "      fill: #174EA6;\n",
              "    }\n",
              "\n",
              "    [theme=dark] .colab-df-convert {\n",
              "      background-color: #3B4455;\n",
              "      fill: #D2E3FC;\n",
              "    }\n",
              "\n",
              "    [theme=dark] .colab-df-convert:hover {\n",
              "      background-color: #434B5C;\n",
              "      box-shadow: 0px 1px 3px 1px rgba(0, 0, 0, 0.15);\n",
              "      filter: drop-shadow(0px 1px 2px rgba(0, 0, 0, 0.3));\n",
              "      fill: #FFFFFF;\n",
              "    }\n",
              "  </style>\n",
              "\n",
              "      <script>\n",
              "        const buttonEl =\n",
              "          document.querySelector('#df-907916fa-f842-417c-a067-680eae0c493b button.colab-df-convert');\n",
              "        buttonEl.style.display =\n",
              "          google.colab.kernel.accessAllowed ? 'block' : 'none';\n",
              "\n",
              "        async function convertToInteractive(key) {\n",
              "          const element = document.querySelector('#df-907916fa-f842-417c-a067-680eae0c493b');\n",
              "          const dataTable =\n",
              "            await google.colab.kernel.invokeFunction('convertToInteractive',\n",
              "                                                     [key], {});\n",
              "          if (!dataTable) return;\n",
              "\n",
              "          const docLinkHtml = 'Like what you see? Visit the ' +\n",
              "            '<a target=\"_blank\" href=https://colab.research.google.com/notebooks/data_table.ipynb>data table notebook</a>'\n",
              "            + ' to learn more about interactive tables.';\n",
              "          element.innerHTML = '';\n",
              "          dataTable['output_type'] = 'display_data';\n",
              "          await google.colab.output.renderOutput(dataTable, element);\n",
              "          const docLink = document.createElement('div');\n",
              "          docLink.innerHTML = docLinkHtml;\n",
              "          element.appendChild(docLink);\n",
              "        }\n",
              "      </script>\n",
              "    </div>\n",
              "  </div>\n",
              "  "
            ]
          },
          "metadata": {},
          "execution_count": 15
        }
      ]
    },
    {
      "cell_type": "markdown",
      "source": [
        "**Step 12**: Now - Again we will apply a second round of cleaning"
      ],
      "metadata": {
        "id": "s-bK62dh8m1x"
      }
    },
    {
      "cell_type": "code",
      "source": [
        "\n",
        "def text_clean_2(text):\n",
        "    text = re.sub('[‘’“”…]', '', text)\n",
        "    text = re.sub('\\n', '', text)\n",
        "    return text\n",
        "\n",
        "cleaned2 = lambda x: text_clean_2(x)"
      ],
      "metadata": {
        "id": "8yWbkytk2EQ8"
      },
      "execution_count": 16,
      "outputs": []
    },
    {
      "cell_type": "markdown",
      "source": [
        "\n",
        "\n",
        "\n",
        "**Step 13:** Now Let's take a look at the updated text\n"
      ],
      "metadata": {
        "id": "sefaBs878w_-"
      }
    },
    {
      "cell_type": "code",
      "source": [
        "# Let's take a look at the updated text\n",
        "df['cleaned_description_new'] = pd.DataFrame(df['cleaned_description'].apply(cleaned2))\n",
        "df.head(10)"
      ],
      "metadata": {
        "colab": {
          "base_uri": "https://localhost:8080/",
          "height": 363
        },
        "id": "ZlItzUY42cLh",
        "outputId": "5e784f6f-ef38-4d82-fcd4-524545d2831b"
      },
      "execution_count": 18,
      "outputs": [
        {
          "output_type": "execute_result",
          "data": {
            "text/plain": [
              "                                         Description Is_Response  \\\n",
              "0  The room was kind of clean but had a VERY stro...   not happy   \n",
              "1  I stayed at the Crown Plaza April -- - April -...   not happy   \n",
              "2  I booked this hotel through Hotwire at the low...   not happy   \n",
              "3  Stayed here with husband and sons on the way t...       happy   \n",
              "4  My girlfriends and I stayed here to celebrate ...   not happy   \n",
              "5  We had - rooms. One was very nice and clearly ...       happy   \n",
              "6  My husband and I have stayed in this hotel a f...   not happy   \n",
              "7  My wife & I stayed in this glorious city a whi...       happy   \n",
              "8  My boyfriend and I stayed at the Fairmont on a...       happy   \n",
              "9  Wonderful staff, great location, but it was de...   not happy   \n",
              "\n",
              "                                 cleaned_description  \\\n",
              "0  the room was kind of clean but had a very stro...   \n",
              "1  i stayed at the crown plaza april   april   th...   \n",
              "2  i booked this hotel through hotwire at the low...   \n",
              "3  stayed here with husband and sons on the way t...   \n",
              "4  my girlfriends and i stayed here to celebrate ...   \n",
              "5  we had  rooms one was very nice and clearly ha...   \n",
              "6  my husband and i have stayed in this hotel a f...   \n",
              "7  my wife  i stayed in this glorious city a whil...   \n",
              "8  my boyfriend and i stayed at the fairmont on a...   \n",
              "9  wonderful staff great location but it was defi...   \n",
              "\n",
              "                             cleaned_description_new  \n",
              "0  the room was kind of clean but had a very stro...  \n",
              "1  i stayed at the crown plaza april   april   th...  \n",
              "2  i booked this hotel through hotwire at the low...  \n",
              "3  stayed here with husband and sons on the way t...  \n",
              "4  my girlfriends and i stayed here to celebrate ...  \n",
              "5  we had  rooms one was very nice and clearly ha...  \n",
              "6  my husband and i have stayed in this hotel a f...  \n",
              "7  my wife  i stayed in this glorious city a whil...  \n",
              "8  my boyfriend and i stayed at the fairmont on a...  \n",
              "9  wonderful staff great location but it was defi...  "
            ],
            "text/html": [
              "\n",
              "  <div id=\"df-6ae709bf-816d-4aa3-be96-d8bd2ac3de40\">\n",
              "    <div class=\"colab-df-container\">\n",
              "      <div>\n",
              "<style scoped>\n",
              "    .dataframe tbody tr th:only-of-type {\n",
              "        vertical-align: middle;\n",
              "    }\n",
              "\n",
              "    .dataframe tbody tr th {\n",
              "        vertical-align: top;\n",
              "    }\n",
              "\n",
              "    .dataframe thead th {\n",
              "        text-align: right;\n",
              "    }\n",
              "</style>\n",
              "<table border=\"1\" class=\"dataframe\">\n",
              "  <thead>\n",
              "    <tr style=\"text-align: right;\">\n",
              "      <th></th>\n",
              "      <th>Description</th>\n",
              "      <th>Is_Response</th>\n",
              "      <th>cleaned_description</th>\n",
              "      <th>cleaned_description_new</th>\n",
              "    </tr>\n",
              "  </thead>\n",
              "  <tbody>\n",
              "    <tr>\n",
              "      <th>0</th>\n",
              "      <td>The room was kind of clean but had a VERY stro...</td>\n",
              "      <td>not happy</td>\n",
              "      <td>the room was kind of clean but had a very stro...</td>\n",
              "      <td>the room was kind of clean but had a very stro...</td>\n",
              "    </tr>\n",
              "    <tr>\n",
              "      <th>1</th>\n",
              "      <td>I stayed at the Crown Plaza April -- - April -...</td>\n",
              "      <td>not happy</td>\n",
              "      <td>i stayed at the crown plaza april   april   th...</td>\n",
              "      <td>i stayed at the crown plaza april   april   th...</td>\n",
              "    </tr>\n",
              "    <tr>\n",
              "      <th>2</th>\n",
              "      <td>I booked this hotel through Hotwire at the low...</td>\n",
              "      <td>not happy</td>\n",
              "      <td>i booked this hotel through hotwire at the low...</td>\n",
              "      <td>i booked this hotel through hotwire at the low...</td>\n",
              "    </tr>\n",
              "    <tr>\n",
              "      <th>3</th>\n",
              "      <td>Stayed here with husband and sons on the way t...</td>\n",
              "      <td>happy</td>\n",
              "      <td>stayed here with husband and sons on the way t...</td>\n",
              "      <td>stayed here with husband and sons on the way t...</td>\n",
              "    </tr>\n",
              "    <tr>\n",
              "      <th>4</th>\n",
              "      <td>My girlfriends and I stayed here to celebrate ...</td>\n",
              "      <td>not happy</td>\n",
              "      <td>my girlfriends and i stayed here to celebrate ...</td>\n",
              "      <td>my girlfriends and i stayed here to celebrate ...</td>\n",
              "    </tr>\n",
              "    <tr>\n",
              "      <th>5</th>\n",
              "      <td>We had - rooms. One was very nice and clearly ...</td>\n",
              "      <td>happy</td>\n",
              "      <td>we had  rooms one was very nice and clearly ha...</td>\n",
              "      <td>we had  rooms one was very nice and clearly ha...</td>\n",
              "    </tr>\n",
              "    <tr>\n",
              "      <th>6</th>\n",
              "      <td>My husband and I have stayed in this hotel a f...</td>\n",
              "      <td>not happy</td>\n",
              "      <td>my husband and i have stayed in this hotel a f...</td>\n",
              "      <td>my husband and i have stayed in this hotel a f...</td>\n",
              "    </tr>\n",
              "    <tr>\n",
              "      <th>7</th>\n",
              "      <td>My wife &amp; I stayed in this glorious city a whi...</td>\n",
              "      <td>happy</td>\n",
              "      <td>my wife  i stayed in this glorious city a whil...</td>\n",
              "      <td>my wife  i stayed in this glorious city a whil...</td>\n",
              "    </tr>\n",
              "    <tr>\n",
              "      <th>8</th>\n",
              "      <td>My boyfriend and I stayed at the Fairmont on a...</td>\n",
              "      <td>happy</td>\n",
              "      <td>my boyfriend and i stayed at the fairmont on a...</td>\n",
              "      <td>my boyfriend and i stayed at the fairmont on a...</td>\n",
              "    </tr>\n",
              "    <tr>\n",
              "      <th>9</th>\n",
              "      <td>Wonderful staff, great location, but it was de...</td>\n",
              "      <td>not happy</td>\n",
              "      <td>wonderful staff great location but it was defi...</td>\n",
              "      <td>wonderful staff great location but it was defi...</td>\n",
              "    </tr>\n",
              "  </tbody>\n",
              "</table>\n",
              "</div>\n",
              "      <button class=\"colab-df-convert\" onclick=\"convertToInteractive('df-6ae709bf-816d-4aa3-be96-d8bd2ac3de40')\"\n",
              "              title=\"Convert this dataframe to an interactive table.\"\n",
              "              style=\"display:none;\">\n",
              "        \n",
              "  <svg xmlns=\"http://www.w3.org/2000/svg\" height=\"24px\"viewBox=\"0 0 24 24\"\n",
              "       width=\"24px\">\n",
              "    <path d=\"M0 0h24v24H0V0z\" fill=\"none\"/>\n",
              "    <path d=\"M18.56 5.44l.94 2.06.94-2.06 2.06-.94-2.06-.94-.94-2.06-.94 2.06-2.06.94zm-11 1L8.5 8.5l.94-2.06 2.06-.94-2.06-.94L8.5 2.5l-.94 2.06-2.06.94zm10 10l.94 2.06.94-2.06 2.06-.94-2.06-.94-.94-2.06-.94 2.06-2.06.94z\"/><path d=\"M17.41 7.96l-1.37-1.37c-.4-.4-.92-.59-1.43-.59-.52 0-1.04.2-1.43.59L10.3 9.45l-7.72 7.72c-.78.78-.78 2.05 0 2.83L4 21.41c.39.39.9.59 1.41.59.51 0 1.02-.2 1.41-.59l7.78-7.78 2.81-2.81c.8-.78.8-2.07 0-2.86zM5.41 20L4 18.59l7.72-7.72 1.47 1.35L5.41 20z\"/>\n",
              "  </svg>\n",
              "      </button>\n",
              "      \n",
              "  <style>\n",
              "    .colab-df-container {\n",
              "      display:flex;\n",
              "      flex-wrap:wrap;\n",
              "      gap: 12px;\n",
              "    }\n",
              "\n",
              "    .colab-df-convert {\n",
              "      background-color: #E8F0FE;\n",
              "      border: none;\n",
              "      border-radius: 50%;\n",
              "      cursor: pointer;\n",
              "      display: none;\n",
              "      fill: #1967D2;\n",
              "      height: 32px;\n",
              "      padding: 0 0 0 0;\n",
              "      width: 32px;\n",
              "    }\n",
              "\n",
              "    .colab-df-convert:hover {\n",
              "      background-color: #E2EBFA;\n",
              "      box-shadow: 0px 1px 2px rgba(60, 64, 67, 0.3), 0px 1px 3px 1px rgba(60, 64, 67, 0.15);\n",
              "      fill: #174EA6;\n",
              "    }\n",
              "\n",
              "    [theme=dark] .colab-df-convert {\n",
              "      background-color: #3B4455;\n",
              "      fill: #D2E3FC;\n",
              "    }\n",
              "\n",
              "    [theme=dark] .colab-df-convert:hover {\n",
              "      background-color: #434B5C;\n",
              "      box-shadow: 0px 1px 3px 1px rgba(0, 0, 0, 0.15);\n",
              "      filter: drop-shadow(0px 1px 2px rgba(0, 0, 0, 0.3));\n",
              "      fill: #FFFFFF;\n",
              "    }\n",
              "  </style>\n",
              "\n",
              "      <script>\n",
              "        const buttonEl =\n",
              "          document.querySelector('#df-6ae709bf-816d-4aa3-be96-d8bd2ac3de40 button.colab-df-convert');\n",
              "        buttonEl.style.display =\n",
              "          google.colab.kernel.accessAllowed ? 'block' : 'none';\n",
              "\n",
              "        async function convertToInteractive(key) {\n",
              "          const element = document.querySelector('#df-6ae709bf-816d-4aa3-be96-d8bd2ac3de40');\n",
              "          const dataTable =\n",
              "            await google.colab.kernel.invokeFunction('convertToInteractive',\n",
              "                                                     [key], {});\n",
              "          if (!dataTable) return;\n",
              "\n",
              "          const docLinkHtml = 'Like what you see? Visit the ' +\n",
              "            '<a target=\"_blank\" href=https://colab.research.google.com/notebooks/data_table.ipynb>data table notebook</a>'\n",
              "            + ' to learn more about interactive tables.';\n",
              "          element.innerHTML = '';\n",
              "          dataTable['output_type'] = 'display_data';\n",
              "          await google.colab.output.renderOutput(dataTable, element);\n",
              "          const docLink = document.createElement('div');\n",
              "          docLink.innerHTML = docLinkHtml;\n",
              "          element.appendChild(docLink);\n",
              "        }\n",
              "      </script>\n",
              "    </div>\n",
              "  </div>\n",
              "  "
            ]
          },
          "metadata": {},
          "execution_count": 18
        }
      ]
    },
    {
      "cell_type": "markdown",
      "source": [
        "**Step 14 : Model training starts here:-**\n",
        "\n"
      ],
      "metadata": {
        "id": "bg6xCOwWeI82"
      }
    },
    {
      "cell_type": "code",
      "source": [
        "from sklearn.model_selection import train_test_split\n",
        "\n",
        "Independent_var = df.cleaned_description_new\n",
        "Dependent_var = df.Is_Response\n",
        "\n",
        "IV_train, IV_test, DV_train, DV_test = train_test_split(Independent_var, Dependent_var, test_size = 0.1, random_state = 225)\n",
        "\n",
        "print('IV_train :', len(IV_train))\n",
        "print('IV_test  :', len(IV_test))\n",
        "print('DV_train :', len(DV_train))\n",
        "print('DV_test  :', len(DV_test))\n"
      ],
      "metadata": {
        "colab": {
          "base_uri": "https://localhost:8080/"
        },
        "id": "eyOeF64O2oQ8",
        "outputId": "5e44fe13-ce8f-4de3-9991-c565f7ba301b"
      },
      "execution_count": 19,
      "outputs": [
        {
          "output_type": "stream",
          "name": "stdout",
          "text": [
            "IV_train : 35038\n",
            "IV_test  : 3894\n",
            "DV_train : 35038\n",
            "DV_test  : 3894\n"
          ]
        }
      ]
    },
    {
      "cell_type": "markdown",
      "source": [
        "**Step 15:** Using pipeline\n",
        "\n",
        "**Note:** The purpose of the pipeline is to assemble several steps that can be cross-validated together while setting different parameters."
      ],
      "metadata": {
        "id": "yz6XkboK9Q9G"
      }
    },
    {
      "cell_type": "code",
      "source": [
        "from sklearn.feature_extraction.text import TfidfVectorizer\n",
        "from sklearn.linear_model import LogisticRegression\n",
        "\n",
        "tvec = TfidfVectorizer()\n",
        "clf2 = LogisticRegression(solver = \"lbfgs\")\n",
        "\n",
        "\n",
        "from sklearn.pipeline import Pipeline"
      ],
      "metadata": {
        "id": "IFfKAM592scF"
      },
      "execution_count": 20,
      "outputs": []
    },
    {
      "cell_type": "code",
      "source": [
        "model = Pipeline([('vectorizer',tvec),('classifier',clf2)])\n",
        "\n",
        "model.fit(IV_train, DV_train)\n",
        "\n",
        "\n",
        "from sklearn.metrics import confusion_matrix\n",
        "\n",
        "predictions = model.predict(IV_test)\n",
        "\n",
        "confusion_matrix(predictions, DV_test)"
      ],
      "metadata": {
        "colab": {
          "base_uri": "https://localhost:8080/"
        },
        "id": "vTOl9TKd2wNM",
        "outputId": "2732b7cd-cb60-4964-e1d3-c1776dfcff2c"
      },
      "execution_count": 21,
      "outputs": [
        {
          "output_type": "execute_result",
          "data": {
            "text/plain": [
              "array([[2418,  305],\n",
              "       [ 153, 1018]])"
            ]
          },
          "metadata": {},
          "execution_count": 21
        }
      ]
    },
    {
      "cell_type": "markdown",
      "source": [
        "**Step 16**: In the final step we will see the model prediciton"
      ],
      "metadata": {
        "id": "PN8DJDaN9ir1"
      }
    },
    {
      "cell_type": "code",
      "source": [
        "from sklearn.metrics import accuracy_score, precision_score, recall_score\n",
        "\n",
        "print(\"Accuracy : \", accuracy_score(predictions, DV_test))\n",
        "print(\"Precision : \", precision_score(predictions, DV_test, average = 'weighted'))\n",
        "print(\"Recall : \", recall_score(predictions, DV_test, average = 'weighted'))"
      ],
      "metadata": {
        "colab": {
          "base_uri": "https://localhost:8080/"
        },
        "id": "TJz7DPWM2uuw",
        "outputId": "45dbd6c7-feea-43ed-8e4b-163f4df2cfa1"
      },
      "execution_count": 24,
      "outputs": [
        {
          "output_type": "stream",
          "name": "stdout",
          "text": [
            "Accuracy :  0.8823831535695943\n",
            "Precision :  0.8890590818181386\n",
            "Recall :  0.8823831535695943\n"
          ]
        }
      ]
    },
    {
      "cell_type": "markdown",
      "source": [
        "**Step 17: **Trying the model on new reviews."
      ],
      "metadata": {
        "id": "ASitu8tPfYah"
      }
    },
    {
      "cell_type": "code",
      "source": [
        "example = [\"I'm not happy\"]\n",
        "result = model.predict(example)\n",
        "\n",
        "print(result)"
      ],
      "metadata": {
        "colab": {
          "base_uri": "https://localhost:8080/"
        },
        "id": "w58-tpxafQBC",
        "outputId": "a2bb7911-4b67-43c5-f7e8-c7c6c1770aa0"
      },
      "execution_count": 25,
      "outputs": [
        {
          "output_type": "stream",
          "name": "stdout",
          "text": [
            "['happy']\n"
          ]
        }
      ]
    },
    {
      "cell_type": "markdown",
      "source": [
        "**Therefore , In the above Sentiment Analysis done we get our output results for the Hotel reviews**"
      ],
      "metadata": {
        "id": "2bRx8Y529t_6"
      }
    }
  ]
}